{
 "cells": [
  {
   "cell_type": "code",
   "execution_count": null,
   "metadata": {},
   "outputs": [],
   "source": [
    "# %load ../helpers.py\n",
    "%matplotlib inline\n",
    "%env NI_PAGER=\"cat\"\n",
    "import pandas as pd\n",
    "import numpy as np\n",
    "from os.path import join, split, exists, splitext\n"
   ]
  },
  {
   "cell_type": "code",
   "execution_count": null,
   "metadata": {},
   "outputs": [],
   "source": [
    "from collections import defaultdict\n",
    "from bokeh.io import show, save\n",
    "from bokeh.models import (\n",
    "    ColumnDataSource,\n",
    "    HoverTool,\n",
    "    LogColorMapper\n",
    ")\n",
    "from bokeh.palettes import Viridis6 as palette\n",
    "from bokeh.plotting import figure\n",
    "from shapely.geometry import box, shape\n",
    "from shapely.ops import cascaded_union, unary_union\n",
    "\n",
    "INPUT_FOLDER = 'geohash_data'"
   ]
  },
  {
   "cell_type": "code",
   "execution_count": null,
   "metadata": {},
   "outputs": [],
   "source": [
    "def make_box(n, s, e, w):\n",
    "    xs = [n, n, s, s]\n",
    "    ys = [e, w, w, e]\n",
    "    return xs, ys\n",
    "\n",
    "def preprocess_geohash_data(input_fn, output_fn):\n",
    "    !ni {input_fn} gAu p'r a, ghb(a), murmurhash3(b), FR 1' \\>{output_fn}\n",
    "    return"
   ]
  },
  {
   "cell_type": "code",
   "execution_count": null,
   "metadata": {},
   "outputs": [],
   "source": [
    "raw_gh_info_fn = join(INPUT_FOLDER, 'dma_gh4s')\n",
    "color_fn = join(INPUT_FOLDER, 'dma_gh4s_color')\n",
    "preprocess_geohash_data(raw_gh_info_fn, color_fn)\n",
    "input_df = pd.read_csv(color_fn, header=None, sep='\\t')\n",
    "print input_df.head()\n",
    "input_df.columns=['gh', 'N', 'S', 'E', 'W', 'color', 'dma_name', 'dma_id']\n",
    "input_df = input_df.groupby(['gh']).first().reset_index()\n",
    "input_df.head()\n",
    "\n",
    "data_dict = defaultdict(list)\n",
    "\n",
    "for idx, row in input_df.iterrows():\n",
    "    gh= row['gh']\n",
    "    raw_dma = row['dma_name']\n",
    "    color = row['color']\n",
    "    red = color & 255\n",
    "    green = (color >> 8) & 255\n",
    "    blue = (color >> 16) & 255\n",
    "#     print color, red, green, blue\n",
    "    \n",
    "    ys, xs = make_box(row['N'], row['S'], row['E'], row['W'])\n",
    "    \n",
    "    \n",
    "    dma_pieces = raw_dma.split('__')[-1].split('_')\n",
    "    dma = '{}, {}'.format(' '.join(dma_pieces[:-1]), dma_pieces[-1])\n",
    "    \n",
    "    data_dict['x'].append(xs)\n",
    "    data_dict['y'].append(ys)\n",
    "    data_dict['dma'].append(dma)\n",
    "    data_dict['gh'].append(gh)\n",
    "    data_dict['color'].append(\"#{:02X}{:02X}{:02X}\".format(red, green, blue))\n",
    "\n",
    "source = ColumnDataSource(data=data_dict)\n",
    "\n",
    "TOOLS = \"pan,wheel_zoom,box_zoom,reset,hover,save\"\n",
    "\n",
    "p = figure(\n",
    "    title=\"US DMA Geohash-4s\", tools=TOOLS,\n",
    "    x_axis_location=None, y_axis_location=None\n",
    ")\n",
    "p.grid.grid_line_color = None\n",
    "\n",
    "p.patches('x', 'y', source=source,\n",
    "          fill_color={'field': 'color'},\n",
    "          fill_alpha=0.7, line_color=\"white\", line_width=0.1)\n",
    "\n",
    "hover = p.select_one(HoverTool)\n",
    "hover.point_policy = \"follow_mouse\"\n",
    "hover.tooltips = [\n",
    "    (\"DMA Name\", \"@dma\"),\n",
    "    (\"Geohash\", \"@gh\"),\n",
    "    (\"Latitude\", \"$y\"),\n",
    "    (\"Longitude\", \"$x\")\n",
    "]\n",
    "\n",
    "show(p)\n",
    "save(p, join(INPUT_FOLDER, 'dma_colors.html'))"
   ]
  },
  {
   "cell_type": "code",
   "execution_count": null,
   "metadata": {},
   "outputs": [],
   "source": []
  }
 ],
 "metadata": {
  "anaconda-cloud": {},
  "kernelspec": {
   "display_name": "Python [conda root]",
   "language": "python",
   "name": "conda-root-py"
  },
  "language_info": {
   "codemirror_mode": {
    "name": "ipython",
    "version": 2
   },
   "file_extension": ".py",
   "mimetype": "text/x-python",
   "name": "python",
   "nbconvert_exporter": "python",
   "pygments_lexer": "ipython2"
  }
 },
 "nbformat": 4,
 "nbformat_minor": 1
}
